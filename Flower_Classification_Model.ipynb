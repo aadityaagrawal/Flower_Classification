{
  "nbformat": 4,
  "nbformat_minor": 0,
  "metadata": {
    "colab": {
      "name": "Flower_Model.ipynb",
      "provenance": [],
      "collapsed_sections": []
    },
    "kernelspec": {
      "name": "python3",
      "display_name": "Python 3"
    },
    "language_info": {
      "name": "python"
    }
  },
  "cells": [
    {
      "cell_type": "code",
      "metadata": {
        "id": "mF2_XMBZDFh8"
      },
      "source": [
        "import numpy as np\n",
        "import os\n",
        "import tensorflow as tf\n",
        "from tensorflow import keras\n",
        "from tensorflow.keras import layers\n",
        "from tensorflow.keras.models import Sequential"
      ],
      "execution_count": 1,
      "outputs": []
    },
    {
      "cell_type": "code",
      "metadata": {
        "id": "8AOowFBqewzS"
      },
      "source": [
        "import pathlib\n",
        "dataset_url = \"https://storage.googleapis.com/download.tensorflow.org/example_images/flower_photos.tgz\"\n",
        "data_dir = tf.keras.utils.get_file('flower_photos', origin=dataset_url, untar=True)\n",
        "data_dir = pathlib.Path(data_dir)"
      ],
      "execution_count": 2,
      "outputs": []
    },
    {
      "cell_type": "code",
      "metadata": {
        "colab": {
          "base_uri": "https://localhost:8080/"
        },
        "id": "_Ixcoo2avUjQ",
        "outputId": "083e3ad6-9de7-4532-a640-da203bf7ff6b"
      },
      "source": [
        "image_count = len(list(data_dir.glob('*/*.jpg')))\n",
        "print(image_count)"
      ],
      "execution_count": 3,
      "outputs": [
        {
          "output_type": "stream",
          "text": [
            "3670\n"
          ],
          "name": "stdout"
        }
      ]
    },
    {
      "cell_type": "code",
      "metadata": {
        "id": "x5KsVeTcvcIm"
      },
      "source": [
        "batch_size = 32\n",
        "img_height = 180\n",
        "img_width = 180"
      ],
      "execution_count": 4,
      "outputs": []
    },
    {
      "cell_type": "code",
      "metadata": {
        "colab": {
          "base_uri": "https://localhost:8080/"
        },
        "id": "hn9x3iJqvgIO",
        "outputId": "2cab4e32-e8b4-4fb8-de87-ca9d7a596e67"
      },
      "source": [
        "train_ds = tf.keras.preprocessing.image_dataset_from_directory(\n",
        "  data_dir,\n",
        "  validation_split=0.2,\n",
        "  subset=\"training\",\n",
        "  seed=123,\n",
        "  label_mode = 'int',\n",
        "  image_size=(img_height, img_width),\n",
        "  batch_size=batch_size)"
      ],
      "execution_count": 11,
      "outputs": [
        {
          "output_type": "stream",
          "text": [
            "Found 3670 files belonging to 5 classes.\n",
            "Using 2936 files for training.\n"
          ],
          "name": "stdout"
        }
      ]
    },
    {
      "cell_type": "code",
      "metadata": {
        "colab": {
          "base_uri": "https://localhost:8080/"
        },
        "id": "RYdDs3mRvnux",
        "outputId": "1165111e-7151-42b4-a6e1-9e8830feec30"
      },
      "source": [
        "val_ds = tf.keras.preprocessing.image_dataset_from_directory(\n",
        "  data_dir,\n",
        "  validation_split=0.2,\n",
        "  subset=\"validation\",\n",
        "  seed=123,\n",
        "  label_mode = 'int',\n",
        "  image_size=(img_height, img_width),\n",
        "  batch_size=batch_size)"
      ],
      "execution_count": 12,
      "outputs": [
        {
          "output_type": "stream",
          "text": [
            "Found 3670 files belonging to 5 classes.\n",
            "Using 734 files for validation.\n"
          ],
          "name": "stdout"
        }
      ]
    },
    {
      "cell_type": "code",
      "metadata": {
        "colab": {
          "base_uri": "https://localhost:8080/"
        },
        "id": "sbu_2BaqvqIY",
        "outputId": "2ca78527-0662-477e-9982-1f0759ecc64e"
      },
      "source": [
        "class_names = train_ds.class_names\n",
        "print(class_names)"
      ],
      "execution_count": 13,
      "outputs": [
        {
          "output_type": "stream",
          "text": [
            "['daisy', 'dandelion', 'roses', 'sunflowers', 'tulips']\n"
          ],
          "name": "stdout"
        }
      ]
    },
    {
      "cell_type": "code",
      "metadata": {
        "id": "QgvA5C51vsmm"
      },
      "source": [
        "model = Sequential([\n",
        "  layers.experimental.preprocessing.Rescaling(1./255, input_shape=(img_height, img_width, 3)),\n",
        "  layers.Flatten(),\n",
        "  layers.Dense(128, activation='relu'),\n",
        "  layers.Dense(128, activation='relu'),\n",
        "  layers.Dense(6, activation = 'softmax')\n",
        "])"
      ],
      "execution_count": 14,
      "outputs": []
    },
    {
      "cell_type": "code",
      "metadata": {
        "id": "a1wuIPJWv9X2"
      },
      "source": [
        "model.compile(optimizer='adam',\n",
        "              loss=tf.keras.losses.SparseCategoricalCrossentropy(from_logits=True),\n",
        "              metrics=['accuracy'])"
      ],
      "execution_count": 15,
      "outputs": []
    },
    {
      "cell_type": "code",
      "metadata": {
        "id": "DMt4_hvlv_S1",
        "colab": {
          "base_uri": "https://localhost:8080/"
        },
        "outputId": "9ed52290-fd58-43ca-e8e6-90a71b9bc84e"
      },
      "source": [
        "epochs=10\n",
        "history = model.fit(\n",
        "  train_ds,\n",
        "  validation_data=val_ds,\n",
        "  epochs=epochs\n",
        ")"
      ],
      "execution_count": 16,
      "outputs": [
        {
          "output_type": "stream",
          "text": [
            "Epoch 1/10\n"
          ],
          "name": "stdout"
        },
        {
          "output_type": "stream",
          "text": [
            "/usr/local/lib/python3.7/dist-packages/tensorflow/python/keras/backend.py:4930: UserWarning: \"`sparse_categorical_crossentropy` received `from_logits=True`, but the `output` argument was produced by a sigmoid or softmax activation and thus does not represent logits. Was this intended?\"\n",
            "  '\"`sparse_categorical_crossentropy` received `from_logits=True`, but '\n"
          ],
          "name": "stderr"
        },
        {
          "output_type": "stream",
          "text": [
            "92/92 [==============================] - 16s 168ms/step - loss: 8.4841 - accuracy: 0.3229 - val_loss: 2.3421 - val_accuracy: 0.3093\n",
            "Epoch 2/10\n",
            "92/92 [==============================] - 16s 173ms/step - loss: 2.0286 - accuracy: 0.4142 - val_loss: 2.3392 - val_accuracy: 0.3828\n",
            "Epoch 3/10\n",
            "92/92 [==============================] - 16s 171ms/step - loss: 1.6224 - accuracy: 0.4670 - val_loss: 1.6362 - val_accuracy: 0.3787\n",
            "Epoch 4/10\n",
            "92/92 [==============================] - 15s 163ms/step - loss: 1.3965 - accuracy: 0.4986 - val_loss: 2.1052 - val_accuracy: 0.3883\n",
            "Epoch 5/10\n",
            "92/92 [==============================] - 15s 164ms/step - loss: 1.5311 - accuracy: 0.4663 - val_loss: 1.5238 - val_accuracy: 0.4101\n",
            "Epoch 6/10\n",
            "92/92 [==============================] - 15s 162ms/step - loss: 1.1658 - accuracy: 0.5392 - val_loss: 1.5815 - val_accuracy: 0.3937\n",
            "Epoch 7/10\n",
            "92/92 [==============================] - 15s 163ms/step - loss: 1.1150 - accuracy: 0.5559 - val_loss: 1.6546 - val_accuracy: 0.3992\n",
            "Epoch 8/10\n",
            "92/92 [==============================] - 15s 164ms/step - loss: 1.0402 - accuracy: 0.5875 - val_loss: 1.3242 - val_accuracy: 0.4782\n",
            "Epoch 9/10\n",
            "92/92 [==============================] - 16s 169ms/step - loss: 1.0057 - accuracy: 0.6138 - val_loss: 1.4358 - val_accuracy: 0.4264\n",
            "Epoch 10/10\n",
            "92/92 [==============================] - 15s 160ms/step - loss: 0.9937 - accuracy: 0.6182 - val_loss: 1.3508 - val_accuracy: 0.4564\n"
          ],
          "name": "stdout"
        }
      ]
    },
    {
      "cell_type": "code",
      "metadata": {
        "id": "6G_J0a8iwBsN"
      },
      "source": [
        ""
      ],
      "execution_count": 10,
      "outputs": []
    }
  ]
}